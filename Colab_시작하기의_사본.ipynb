{
  "cells": [
    {
      "cell_type": "markdown",
      "metadata": {
        "id": "view-in-github",
        "colab_type": "text"
      },
      "source": [
        "<a href=\"https://colab.research.google.com/github/y0ening/DataAnalysis/blob/main/Colab_%EC%8B%9C%EC%9E%91%ED%95%98%EA%B8%B0%EC%9D%98_%EC%82%AC%EB%B3%B8.ipynb\" target=\"_parent\"><img src=\"https://colab.research.google.com/assets/colab-badge.svg\" alt=\"Open In Colab\"/></a>"
      ]
    },
    {
      "cell_type": "code",
      "source": [
        "import requests\n",
        "\n",
        "url = \"http://apis.data.go.kr/1613000/ApHusEnergyUseInfoOfferServiceV2/getWntyAvrgEnergyUseAmountInfoSearchV2\"\n",
        "api_key = '4c840993089125055ccccc82206995cd89ad069bb284b66e2914b5d16638b8b0'\n",
        "params = {\n",
        "    'serviceKey' : api_key,\n",
        "    'returnType' : 'json',\n",
        "    'numOfRows' : '100',\n",
        "    'pageNo' : '1',\n",
        "    'sidoName' : '전국',\n",
        "    'searchDate' : '201501',\n",
        "    'ver' : '1.0'\n",
        "}\n",
        "\n",
        "response = requests.get(url, params=params)\n",
        "\n",
        "if response.status_code == 200:\n",
        "    print('API 호출 성공')\n",
        "    print(response.json())\n",
        "else :\n",
        "    print('API 호출 실패 : {response.status_code}')"
      ],
      "metadata": {
        "colab": {
          "base_uri": "https://localhost:8080/"
        },
        "id": "FcqjbCUV9SEs",
        "outputId": "eee8c6ed-4b66-4f6d-86f2-c162841053eb"
      },
      "execution_count": 1,
      "outputs": [
        {
          "output_type": "stream",
          "name": "stdout",
          "text": [
            "API 호출 성공\n",
            "{'response': {'body': {'item': {'heat': 532, 'waterHot': 132, 'gas': 5, 'elect': 674, 'waterCool': 176}}, 'header': {'resultCode': '00', 'resultMsg': 'NORMAL SERVICE.'}}}\n"
          ]
        }
      ]
    }
  ],
  "metadata": {
    "colab": {
      "provenance": [],
      "include_colab_link": true
    },
    "kernelspec": {
      "display_name": "Python 3",
      "name": "python3"
    }
  },
  "nbformat": 4,
  "nbformat_minor": 0
}